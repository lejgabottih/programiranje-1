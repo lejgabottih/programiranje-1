{
 "cells": [
  {
   "cell_type": "code",
   "execution_count": 7,
   "metadata": {
    "vscode": {
     "languageId": "ocaml"
    }
   },
   "outputs": [
    {
     "data": {
      "text/plain": [
       "type euro = Euro of float\n"
      ]
     },
     "execution_count": 7,
     "metadata": {},
     "output_type": "execute_result"
    },
    {
     "data": {
      "text/plain": [
       "type dollar = Dollar of float\n"
      ]
     },
     "execution_count": 7,
     "metadata": {},
     "output_type": "execute_result"
    },
    {
     "data": {
      "text/plain": [
       "val dollar_to_euro : dollar -> euro = <fun>\n"
      ]
     },
     "execution_count": 7,
     "metadata": {},
     "output_type": "execute_result"
    },
    {
     "data": {
      "text/plain": [
       "val euro_to_dollar : euro -> dollar = <fun>\n"
      ]
     },
     "execution_count": 7,
     "metadata": {},
     "output_type": "execute_result"
    }
   ],
   "source": [
    "type euro = Euro of float\n",
    "\n",
    "type dollar = Dollar of float\n",
    "\n",
    "let dollar_to_euro (Dollar d) = Euro (0.92 *. d)\n",
    "\n",
    "let euro_to_dollar (Euro e) = Dollar (1.08 *. e)"
   ]
  },
  {
   "cell_type": "code",
   "execution_count": 25,
   "metadata": {
    "vscode": {
     "languageId": "ocaml"
    }
   },
   "outputs": [
    {
     "data": {
      "text/plain": [
       "type currency = Yen of float | Pound of float | SwedishCrown of float\n"
      ]
     },
     "execution_count": 25,
     "metadata": {},
     "output_type": "execute_result"
    },
    {
     "data": {
      "text/plain": [
       "val to_pound : currency -> currency = <fun>\n"
      ]
     },
     "execution_count": 25,
     "metadata": {},
     "output_type": "execute_result"
    }
   ],
   "source": [
    "type currency = \n",
    "  | Yen of float\n",
    "  | Pound of float\n",
    "  | SwedishCrown of float\n",
    "\n",
    "let to_pound x = \n",
    "  match x with\n",
    "  | Yen x -> Pound (0.0050 *. x)\n",
    "  | SwedishCrown x -> Pound (0.073 *. x)\n",
    "  | Pound x -> Pound x\n",
    "  "
   ]
  },
  {
   "cell_type": "code",
   "execution_count": 26,
   "metadata": {
    "vscode": {
     "languageId": "ocaml"
    }
   },
   "outputs": [
    {
     "data": {
      "text/plain": [
       "- : currency = Pound 0.5\n"
      ]
     },
     "execution_count": 26,
     "metadata": {},
     "output_type": "execute_result"
    }
   ],
   "source": [
    "to_pound (Yen 100.)"
   ]
  },
  {
   "cell_type": "code",
   "execution_count": 27,
   "metadata": {
    "vscode": {
     "languageId": "ocaml"
    }
   },
   "outputs": [
    {
     "data": {
      "text/plain": [
       "- : currency = Pound 0.700000000000000067\n"
      ]
     },
     "execution_count": 27,
     "metadata": {},
     "output_type": "execute_result"
    }
   ],
   "source": [
    "Pound 0.700000000000000067"
   ]
  },
  {
   "cell_type": "code",
   "execution_count": 24,
   "metadata": {
    "vscode": {
     "languageId": "ocaml"
    }
   },
   "outputs": [
    {
     "data": {
      "text/plain": [
       "type intbool_list =\n",
       "    Nil\n",
       "  | Int of int * intbool_list\n",
       "  | Bool of bool * intbool_list\n"
      ]
     },
     "execution_count": 24,
     "metadata": {},
     "output_type": "execute_result"
    }
   ],
   "source": [
    "type intbool_list =\n",
    "  | Nil\n",
    "  | Int of int * intbool_list\n",
    "  | Bool of bool * intbool_list\n",
    "\n",
    "  (Int (5, Bool (true, Bool (false, Int (7, Nil)))))"
   ]
  },
  {
   "cell_type": "code",
   "execution_count": 41,
   "metadata": {
    "vscode": {
     "languageId": "ocaml"
    }
   },
   "outputs": [
    {
     "data": {
      "text/plain": [
       "val intbool_map :\n",
       "  (int -> int) -> (bool -> bool) -> intbool_list -> intbool_list = <fun>\n"
      ]
     },
     "execution_count": 41,
     "metadata": {},
     "output_type": "execute_result"
    }
   ],
   "source": [
    "let rec intbool_map f_int f_bool ib_list =\n",
    "  match ib_list with\n",
    "  | Nil -> Nil\n",
    "  | Int (i, ib_list) -> Int (f_int i, intbool_map f_int f_bool ib_list )\n",
    "  | Bool (b, ib_list) -> Bool (f_bool b, intbool_map f_int f_bool ib_list)"
   ]
  },
  {
   "cell_type": "code",
   "execution_count": 58,
   "metadata": {
    "vscode": {
     "languageId": "ocaml"
    }
   },
   "outputs": [
    {
     "data": {
      "text/plain": [
       "val intbool_reverse : intbool_list -> intbool_list = <fun>\n"
      ]
     },
     "execution_count": 58,
     "metadata": {},
     "output_type": "execute_result"
    }
   ],
   "source": [
    "let intbool_reverse ib_list =\n",
    "  let rec pomozna ib_list acc = \n",
    "    match ib_list with\n",
    "    | Nil -> acc\n",
    "    | Int (i, ib_list) -> pomozna ib_list ( (Int (i, acc)) )\n",
    "    | Bool (b, ib_list) -> pomozna ib_list ( (Bool (b, acc)) ) \n",
    "  in\n",
    "  pomozna ib_list (Nil)"
   ]
  },
  {
   "cell_type": "code",
   "execution_count": 57,
   "metadata": {
    "vscode": {
     "languageId": "ocaml"
    }
   },
   "outputs": [
    {
     "data": {
      "text/plain": [
       "- : intbool_list = Int (7, Bool (false, Bool (true, Int (5, Nil))))\n"
      ]
     },
     "execution_count": 57,
     "metadata": {},
     "output_type": "execute_result"
    }
   ],
   "source": [
    "intbool_reverse (Int (5, Bool (true, Bool (false, Int (7, Nil)))))"
   ]
  },
  {
   "cell_type": "code",
   "execution_count": 59,
   "metadata": {
    "vscode": {
     "languageId": "ocaml"
    }
   },
   "outputs": [
    {
     "data": {
      "text/plain": [
       "val intbool_separate : intbool_list -> int list * bool list = <fun>\n"
      ]
     },
     "execution_count": 59,
     "metadata": {},
     "output_type": "execute_result"
    }
   ],
   "source": [
    "let intbool_separate ib_list =\n",
    "  let rec pomozna ib_list int_list bool_list =\n",
    "    match ib_list with\n",
    "    | Nil -> (List.rev int_list, List.rev bool_list)\n",
    "    | Int (i, ib_list) -> pomozna ib_list (i :: int_list) bool_list\n",
    "    | Bool (b, ib_list) -> pomozna ib_list int_list (b :: bool_list)\n",
    "  in\n",
    "pomozna ib_list [] []"
   ]
  },
  {
   "cell_type": "code",
   "execution_count": 60,
   "metadata": {
    "vscode": {
     "languageId": "ocaml"
    }
   },
   "outputs": [
    {
     "data": {
      "text/plain": [
       "- : int list * bool list = ([5; 7], [true; false])\n"
      ]
     },
     "execution_count": 60,
     "metadata": {},
     "output_type": "execute_result"
    }
   ],
   "source": [
    "intbool_separate (Int (5, Bool (true, Bool (false, Int (7, Nil)))))"
   ]
  },
  {
   "cell_type": "code",
   "execution_count": null,
   "metadata": {
    "vscode": {
     "languageId": "ocaml"
    }
   },
   "outputs": [],
   "source": []
  }
 ],
 "metadata": {
  "kernelspec": {
   "display_name": "OCaml 4.14",
   "language": "OCaml",
   "name": "ocaml-jupyter"
  },
  "language_info": {
   "codemirror_mode": "text/x-ocaml",
   "file_extension": ".ml",
   "mimetype": "text/x-ocaml",
   "name": "OCaml",
   "nbconverter_exporter": null,
   "pygments_lexer": "OCaml",
   "version": "4.14.2"
  }
 },
 "nbformat": 4,
 "nbformat_minor": 2
}
