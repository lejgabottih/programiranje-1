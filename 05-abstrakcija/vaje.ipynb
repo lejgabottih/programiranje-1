{
 "cells": [
  {
   "cell_type": "code",
   "execution_count": 22,
   "metadata": {
    "vscode": {
     "languageId": "ocaml"
    }
   },
   "outputs": [
    {
     "data": {
      "text/plain": [
       "module type NAT =\n",
       "  sig\n",
       "    type t\n",
       "    val eq : t -> t -> bool\n",
       "    val zero : t\n",
       "    val one : t\n",
       "    val to_int : t -> int\n",
       "    val of_int : int -> t\n",
       "    val ( ++ ) : t -> t -> t\n",
       "    val ( -- ) : t -> t -> t\n",
       "    val ( ** ) : t -> t -> t\n",
       "  end\n"
      ]
     },
     "execution_count": 22,
     "metadata": {},
     "output_type": "execute_result"
    }
   ],
   "source": [
    "module type NAT = sig\n",
    "  type t\n",
    "\n",
    "  val eq  : t -> t -> bool\n",
    "  val zero : t\n",
    "  val one : t\n",
    "\n",
    "  val to_int : t -> int\n",
    "  val of_int : int -> t\n",
    "\n",
    "  val ( ++ ) : t -> t -> t\n",
    "  val ( -- ) : t -> t -> t\n",
    "  val ( ** ) : t -> t -> t\n",
    "end"
   ]
  },
  {
   "cell_type": "code",
   "execution_count": 23,
   "metadata": {
    "vscode": {
     "languageId": "ocaml"
    }
   },
   "outputs": [
    {
     "data": {
      "text/plain": [
       "module Nat_int : NAT\n"
      ]
     },
     "execution_count": 23,
     "metadata": {},
     "output_type": "execute_result"
    }
   ],
   "source": [
    "module Nat_int : NAT = struct\n",
    "\n",
    "  type t = int\n",
    "  let eq x y = x = y\n",
    "  let zero = 0\n",
    "  let one = 1\n",
    "\n",
    "  let to_int x = x\n",
    "  let of_int x = x\n",
    "\n",
    "  let ( ++ ) x y = x + y\n",
    "  let ( ** ) x y = x * y\n",
    "  let ( -- ) x y = if x - y < 0 then 0 else x - y\n",
    " \n",
    "end"
   ]
  },
  {
   "cell_type": "code",
   "execution_count": 24,
   "metadata": {
    "vscode": {
     "languageId": "ocaml"
    }
   },
   "outputs": [
    {
     "data": {
      "text/plain": [
       "module Nat_peano : NAT\n"
      ]
     },
     "execution_count": 24,
     "metadata": {},
     "output_type": "execute_result"
    }
   ],
   "source": [
    "module Nat_peano : NAT = struct\n",
    "\n",
    "  type t =\n",
    "    | Zero\n",
    "    | Succ of t\n",
    "\n",
    "  let rec eq x y =\n",
    "    match x, y with\n",
    "    | Zero, Zero -> true\n",
    "    | Succ _, Zero -> false\n",
    "    | Zero, Succ _ -> false\n",
    "    | Succ x', Succ y' -> eq x' y' \n",
    "\n",
    "  let zero = Zero\n",
    "  let one = Succ Zero\n",
    "\n",
    "  let to_int x =\n",
    "    let rec pomozna x acc =\n",
    "      match x with\n",
    "      | Zero -> acc\n",
    "      | Succ x' -> pomozna x' (acc+1)\n",
    "    in\n",
    "    pomozna x 0\n",
    "\n",
    "  let of_int x =\n",
    "    let rec pomozna x acc =\n",
    "      match x with\n",
    "      | 0 -> acc\n",
    "      | x -> pomozna (x-1) (Succ acc)\n",
    "    in\n",
    "    pomozna x Zero\n",
    "\n",
    "  let rec ( ++ ) x y =\n",
    "      match y with \n",
    "      | Zero -> x\n",
    "      | Succ y' -> (Succ x) ++ y'\n",
    "      \n",
    "  let rec ( -- ) x y =\n",
    "    match x, y with\n",
    "    | Zero, Succ y' -> Zero\n",
    "    | x, Zero -> x\n",
    "    | Succ x', Succ y' -> x' -- y' \n",
    "\n",
    "  let ( ** ) x y = \n",
    "    let rec pomozna x y acc =\n",
    "      match y with\n",
    "      | Zero -> acc\n",
    "      | Succ y' -> pomozna x y' (acc ++ x)\n",
    "      in\n",
    "    if (--) x y = Zero then pomozna y x Zero else\n",
    "    pomozna x y Zero\n",
    "\n",
    "\n",
    "\n",
    "end"
   ]
  },
  {
   "cell_type": "code",
   "execution_count": 6,
   "metadata": {
    "vscode": {
     "languageId": "ocaml"
    }
   },
   "outputs": [
    {
     "data": {
      "text/plain": [
       "- : Nat_peano.t = <abstr>\n"
      ]
     },
     "execution_count": 6,
     "metadata": {},
     "output_type": "execute_result"
    }
   ],
   "source": [
    "(Nat_peano.of_int 6)"
   ]
  },
  {
   "cell_type": "code",
   "execution_count": 7,
   "metadata": {
    "vscode": {
     "languageId": "ocaml"
    }
   },
   "outputs": [
    {
     "ename": "error",
     "evalue": "compile_error",
     "output_type": "error",
     "traceback": [
      "File \"[7]\", line 1, characters 17-21:\n1 | Nat_peano.to_int zero\n                     ^^^^\nError: Unbound value zero\n"
     ]
    }
   ],
   "source": [
    "Nat_peano.to_int zero"
   ]
  },
  {
   "cell_type": "code",
   "execution_count": 25,
   "metadata": {
    "vscode": {
     "languageId": "ocaml"
    }
   },
   "outputs": [
    {
     "data": {
      "text/plain": [
       "val sum_nat_100 : int = 5050\n"
      ]
     },
     "execution_count": 25,
     "metadata": {},
     "output_type": "execute_result"
    }
   ],
   "source": [
    "let sum_nat_100 = \n",
    "  let module Nat = Nat_int in\n",
    "  (* let module Nat = Nat_peano in *)\n",
    "  let rec pomozna x acc =\n",
    "    if Nat.of_int x = Nat.zero then acc\n",
    "    else pomozna (x-1) (Nat.(++) acc (Nat.of_int x))\n",
    "  in\n",
    "  pomozna 100 Nat.zero\n",
    "  |> Nat.to_int\n",
    "  \n",
    "(* val sum_nat_100 : int = 5050 *)"
   ]
  },
  {
   "cell_type": "code",
   "execution_count": 12,
   "metadata": {
    "vscode": {
     "languageId": "ocaml"
    }
   },
   "outputs": [
    {
     "data": {
      "text/plain": [
       "- : int = 5050\n"
      ]
     },
     "execution_count": 12,
     "metadata": {},
     "output_type": "execute_result"
    }
   ],
   "source": [
    "Nat_peano.( ** ) (Nat_peano.of_int 50) (Nat_peano.of_int 101) |> Nat_peano.to_int"
   ]
  },
  {
   "cell_type": "code",
   "execution_count": null,
   "metadata": {
    "vscode": {
     "languageId": "ocaml"
    }
   },
   "outputs": [],
   "source": []
  }
 ],
 "metadata": {
  "kernelspec": {
   "display_name": "OCaml 4.14",
   "language": "OCaml",
   "name": "ocaml-jupyter"
  },
  "language_info": {
   "codemirror_mode": "text/x-ocaml",
   "file_extension": ".ml",
   "mimetype": "text/x-ocaml",
   "name": "OCaml",
   "nbconverter_exporter": null,
   "pygments_lexer": "OCaml",
   "version": "4.14.2"
  }
 },
 "nbformat": 4,
 "nbformat_minor": 2
}
