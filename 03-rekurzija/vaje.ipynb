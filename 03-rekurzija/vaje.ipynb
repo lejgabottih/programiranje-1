{
 "cells": [
  {
   "cell_type": "markdown",
   "metadata": {},
   "source": [
    "# Vaje\n"
   ]
  },
  {
   "cell_type": "code",
   "execution_count": 7,
   "metadata": {
    "vscode": {
     "languageId": "ocaml"
    }
   },
   "outputs": [
    {
     "data": {
      "text/plain": [
       "val reverse : 'a list -> 'a list = <fun>\n"
      ]
     },
     "execution_count": 7,
     "metadata": {},
     "output_type": "execute_result"
    }
   ],
   "source": [
    "let rec reverse sez = \n",
    "  match sez with\n",
    "  | [] -> []\n",
    "  | x :: x' -> (reverse x') @ [x]\n"
   ]
  },
  {
   "cell_type": "code",
   "execution_count": 34,
   "metadata": {
    "vscode": {
     "languageId": "ocaml"
    }
   },
   "outputs": [
    {
     "data": {
      "text/plain": [
       "val reverse' : 'a list -> 'a list = <fun>\n"
      ]
     },
     "execution_count": 34,
     "metadata": {},
     "output_type": "execute_result"
    }
   ],
   "source": [
    "let reverse' sez =\n",
    "  let rec pomozna sez kup = \n",
    "    match sez with\n",
    "    | [] -> kup\n",
    "    | x :: xs -> pomozna xs (x :: kup) \n",
    "  in\n",
    "  pomozna sez []\n"
   ]
  },
  {
   "cell_type": "code",
   "execution_count": 38,
   "metadata": {
    "vscode": {
     "languageId": "ocaml"
    }
   },
   "outputs": [
    {
     "data": {
      "text/plain": [
       "val repeat : 'a -> int -> 'a list = <fun>\n"
      ]
     },
     "execution_count": 38,
     "metadata": {},
     "output_type": "execute_result"
    }
   ],
   "source": [
    "let rec repeat x n = \n",
    "  match n with\n",
    "  | 0 -> []\n",
    "  | a -> repeat x (a-1) @ [x]\n"
   ]
  },
  {
   "cell_type": "code",
   "execution_count": 19,
   "metadata": {
    "vscode": {
     "languageId": "ocaml"
    }
   },
   "outputs": [
    {
     "data": {
      "text/plain": [
       "val range : int -> int list = <fun>\n"
      ]
     },
     "execution_count": 19,
     "metadata": {},
     "output_type": "execute_result"
    }
   ],
   "source": [
    "let rec range n = \n",
    "  match n with\n",
    "  | 0 -> [0]\n",
    "  | n -> if n > 0 then range (n-1) @ [n] else []"
   ]
  },
  {
   "cell_type": "code",
   "execution_count": 43,
   "metadata": {
    "vscode": {
     "languageId": "ocaml"
    }
   },
   "outputs": [
    {
     "data": {
      "text/plain": [
       "val range' : int -> int list = <fun>\n"
      ]
     },
     "execution_count": 43,
     "metadata": {},
     "output_type": "execute_result"
    }
   ],
   "source": [
    "let range' n = \n",
    "  let rec pomozna n acc = \n",
    "    match n with\n",
    "    | 0 -> acc\n",
    "    | n -> if n > 0 then pomozna (n-1) (n :: acc) else []\n",
    "  in\n",
    "  pomozna n []\n",
    "    "
   ]
  },
  {
   "cell_type": "code",
   "execution_count": 10,
   "metadata": {
    "vscode": {
     "languageId": "ocaml"
    }
   },
   "outputs": [
    {
     "data": {
      "text/plain": [
       "val map : ('a -> 'b) -> 'a list -> 'b list = <fun>\n"
      ]
     },
     "execution_count": 10,
     "metadata": {},
     "output_type": "execute_result"
    }
   ],
   "source": [
    "let map f sez =\n",
    "  let rec map' f sez acc =\n",
    "    match sez with\n",
    "    | [] -> acc\n",
    "    | x :: xs -> map' f xs (acc @ [f x])\n",
    "  in\n",
    "map' f sez [] "
   ]
  },
  {
   "cell_type": "code",
   "execution_count": 19,
   "metadata": {
    "vscode": {
     "languageId": "ocaml"
    }
   },
   "outputs": [
    {
     "data": {
      "text/plain": [
       "val mapi : (int -> 'a -> 'b) -> 'a list -> 'b list = <fun>\n"
      ]
     },
     "execution_count": 19,
     "metadata": {},
     "output_type": "execute_result"
    }
   ],
   "source": [
    "let mapi f sez =\n",
    "   let rec mapi' f sez acc i =\n",
    "      match sez with\n",
    "      | [] -> acc \n",
    "      | x :: xs -> mapi' f xs (acc @ [(f i x)]) (i+1)\n",
    "   in\n",
    "mapi' f sez [] 0"
   ]
  },
  {
   "cell_type": "code",
   "execution_count": 1,
   "metadata": {
    "vscode": {
     "languageId": "ocaml"
    }
   },
   "outputs": [
    {
     "data": {
      "text/plain": [
       "exception Unequal_length\n"
      ]
     },
     "execution_count": 1,
     "metadata": {},
     "output_type": "execute_result"
    },
    {
     "data": {
      "text/plain": [
       "val zip : 'a list -> 'a list -> ('a * 'a) list = <fun>\n"
      ]
     },
     "execution_count": 1,
     "metadata": {},
     "output_type": "execute_result"
    }
   ],
   "source": [
    "exception Unequal_length\n",
    "\n",
    "let zip sez sez' =\n",
    "  let rec zip' sez sez' acc =\n",
    "      match (sez, sez') with\n",
    "      | ([], x :: xs) | (x :: xs, [])-> raise Unequal_length\n",
    "      | ([], []) -> acc\n",
    "      | (x :: xs, y :: ys) -> zip' xs ys (acc @ [(x, y)])\n",
    "    in\n",
    "  zip' sez sez' []"
   ]
  },
  {
   "cell_type": "code",
   "execution_count": 2,
   "metadata": {
    "vscode": {
     "languageId": "ocaml"
    }
   },
   "outputs": [
    {
     "data": {
      "text/plain": [
       "val first : ('a -> bool) -> 'a -> 'a list -> 'a = <fun>\n"
      ]
     },
     "execution_count": 2,
     "metadata": {},
     "output_type": "execute_result"
    }
   ],
   "source": [
    "let rec first f default sez =\n",
    "  match sez with\n",
    "  | [] -> default\n",
    "  | x :: xs -> if f x then x else first f default xs"
   ]
  },
  {
   "cell_type": "code",
   "execution_count": 4,
   "metadata": {
    "vscode": {
     "languageId": "ocaml"
    }
   },
   "outputs": [
    {
     "data": {
      "text/plain": [
       "- : int = 0\n"
      ]
     },
     "execution_count": 4,
     "metadata": {},
     "output_type": "execute_result"
    }
   ],
   "source": [
    "first ((<) 8) 0 [1; 1; 2; 3; 5; 8]"
   ]
  },
  {
   "cell_type": "code",
   "execution_count": null,
   "metadata": {
    "vscode": {
     "languageId": "ocaml"
    }
   },
   "outputs": [],
   "source": []
  }
 ],
 "metadata": {
  "kernelspec": {
   "display_name": "OCaml 4.14",
   "language": "OCaml",
   "name": "ocaml-jupyter"
  },
  "language_info": {
   "codemirror_mode": "text/x-ocaml",
   "file_extension": ".ml",
   "mimetype": "text/x-ocaml",
   "name": "OCaml",
   "nbconverter_exporter": null,
   "pygments_lexer": "OCaml",
   "version": "4.14.2"
  }
 },
 "nbformat": 4,
 "nbformat_minor": 2
}
